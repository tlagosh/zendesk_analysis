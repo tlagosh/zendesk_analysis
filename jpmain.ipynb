{
 "cells": [
  {
   "cell_type": "code",
   "execution_count": 1,
   "metadata": {},
   "outputs": [],
   "source": [
    "import pandas as pd"
   ]
  },
  {
   "cell_type": "code",
   "execution_count": 2,
   "metadata": {},
   "outputs": [],
   "source": [
    "df = pd.read_csv('tickets.csv')"
   ]
  },
  {
   "cell_type": "markdown",
   "metadata": {},
   "source": [
    "##### Head"
   ]
  },
  {
   "cell_type": "code",
   "execution_count": 3,
   "metadata": {},
   "outputs": [
    {
     "name": "stdout",
     "output_type": "stream",
     "text": [
      "   ticket_id       _fivetran_synced        assignee_id           brand_id  \\\n",
      "0        220  abril 20, 2022, 14:53  4,531,543,131,803  4,705,224,012,571   \n",
      "1        222  abril 20, 2022, 14:53  4,623,907,812,507  4,705,224,012,571   \n",
      "2  1,301,191  abril 20, 2022, 15:19  4,623,907,810,715  4,705,210,809,883   \n",
      "3  1,408,221   mayo 19, 2022, 14:12  4,623,907,810,715  4,705,210,809,883   \n",
      "4  1,427,909  julio 31, 2022, 08:14  4,623,907,810,715  4,705,210,809,883   \n",
      "\n",
      "              created_at             updated_at  \\\n",
      "0  marzo 25, 2022, 19:47   abril 8, 2022, 00:08   \n",
      "1  marzo 25, 2022, 19:50   abril 8, 2022, 00:20   \n",
      "2  abril 12, 2022, 15:42  abril 16, 2022, 00:03   \n",
      "3   mayo 16, 2022, 19:18   mayo 19, 2022, 14:04   \n",
      "4  julio 27, 2022, 21:18  julio 30, 2022, 22:03   \n",
      "\n",
      "                                         description                 due_at  \\\n",
      "0                                                  X  abril 20, 2022, 16:00   \n",
      "1                                                  X                    NaN   \n",
      "2  Estimados\\n\\nJunto con saludar, favor solicito...                    NaN   \n",
      "3  Estimados\\n\\nJunto con saludar, favor solicito...                    NaN   \n",
      "4  Estimados\\n\\nJunto con saludar, favor solicito...                    NaN   \n",
      "\n",
      "            group_id external_id  ...  type  \\\n",
      "0  4,681,689,099,931         NaN  ...  task   \n",
      "1  4,681,689,099,931         NaN  ...   NaN   \n",
      "2  4,681,689,099,931         NaN  ...   NaN   \n",
      "3  4,681,689,099,931         NaN  ...   NaN   \n",
      "4  4,681,689,099,931         NaN  ...   NaN   \n",
      "\n",
      "                                                 url created_channel  \\\n",
      "0  https://iconstruye.zendesk.com/api/v2/tickets/...             web   \n",
      "1  https://iconstruye.zendesk.com/api/v2/tickets/...             web   \n",
      "2  https://iconstruye.zendesk.com/api/v2/tickets/...           email   \n",
      "3  https://iconstruye.zendesk.com/api/v2/tickets/...           email   \n",
      "4  https://iconstruye.zendesk.com/api/v2/tickets/...           email   \n",
      "\n",
      "  source_from_id source_from_title source_rel             source_to_address  \\\n",
      "0            NaN               NaN        NaN                           NaN   \n",
      "1            NaN               NaN        NaN                           NaN   \n",
      "2            NaN               NaN        NaN  casinoexpress@iconstruye.com   \n",
      "3            NaN               NaN        NaN  casinoexpress@iconstruye.com   \n",
      "4            NaN               NaN        NaN  casinoexpress@iconstruye.com   \n",
      "\n",
      "    source_to_name stg_zendesk__group → group_id stg_zendesk__group → name  \n",
      "0              NaN             4,681,689,099,931           Configuraciones  \n",
      "1              NaN             4,681,689,099,931           Configuraciones  \n",
      "2  iConstruye S.A.             4,681,689,099,931           Configuraciones  \n",
      "3  iConstruye S.A.             4,681,689,099,931           Configuraciones  \n",
      "4  iConstruye S.A.             4,681,689,099,931           Configuraciones  \n",
      "\n",
      "[5 rows x 30 columns]\n"
     ]
    }
   ],
   "source": [
    "print(df.head())"
   ]
  },
  {
   "cell_type": "markdown",
   "metadata": {},
   "source": [
    "##### Checkear se hay filas duplicadas"
   ]
  },
  {
   "cell_type": "code",
   "execution_count": 4,
   "metadata": {},
   "outputs": [
    {
     "name": "stdout",
     "output_type": "stream",
     "text": [
      "Filas Duplicadas: False\n",
      "\n"
     ]
    }
   ],
   "source": [
    "print('Filas Duplicadas: ' + str(df.duplicated().any()) + '\\n')"
   ]
  },
  {
   "cell_type": "markdown",
   "metadata": {},
   "source": [
    "##### Info"
   ]
  },
  {
   "cell_type": "code",
   "execution_count": 5,
   "metadata": {},
   "outputs": [
    {
     "name": "stdout",
     "output_type": "stream",
     "text": [
      "<class 'pandas.core.frame.DataFrame'>\n",
      "RangeIndex: 16097 entries, 0 to 16096\n",
      "Data columns (total 30 columns):\n",
      " #   Column                         Non-Null Count  Dtype  \n",
      "---  ------                         --------------  -----  \n",
      " 0   ticket_id                      16097 non-null  object \n",
      " 1   _fivetran_synced               16097 non-null  object \n",
      " 2   assignee_id                    10710 non-null  object \n",
      " 3   brand_id                       16097 non-null  object \n",
      " 4   created_at                     16097 non-null  object \n",
      " 5   updated_at                     16097 non-null  object \n",
      " 6   description                    16097 non-null  object \n",
      " 7   due_at                         518 non-null    object \n",
      " 8   group_id                       16097 non-null  object \n",
      " 9   external_id                    12035 non-null  object \n",
      " 10  is_public                      16097 non-null  object \n",
      " 11  organization_id                16071 non-null  object \n",
      " 12  priority                       15984 non-null  object \n",
      " 13  recipient                      3936 non-null   object \n",
      " 14  requester_id                   16097 non-null  object \n",
      " 15  status                         16097 non-null  object \n",
      " 16  subject                        16097 non-null  object \n",
      " 17  problem_id                     0 non-null      float64\n",
      " 18  submitter_id                   16097 non-null  object \n",
      " 19  ticket_form_id                 16097 non-null  object \n",
      " 20  type                           522 non-null    object \n",
      " 21  url                            16097 non-null  object \n",
      " 22  created_channel                16097 non-null  object \n",
      " 23  source_from_id                 0 non-null      float64\n",
      " 24  source_from_title              0 non-null      float64\n",
      " 25  source_rel                     390 non-null    object \n",
      " 26  source_to_address              3546 non-null   object \n",
      " 27  source_to_name                 3546 non-null   object \n",
      " 28  stg_zendesk__group → group_id  16097 non-null  object \n",
      " 29  stg_zendesk__group → name      16097 non-null  object \n",
      "dtypes: float64(3), object(27)\n",
      "memory usage: 3.7+ MB\n",
      "None\n"
     ]
    }
   ],
   "source": [
    "print(df.info())"
   ]
  },
  {
   "cell_type": "markdown",
   "metadata": {},
   "source": [
    "##### Limpieza de tabla"
   ]
  },
  {
   "cell_type": "code",
   "execution_count": 6,
   "metadata": {},
   "outputs": [
    {
     "name": "stdout",
     "output_type": "stream",
     "text": [
      "columns: 30\n",
      "rows: 16097\n",
      "limpieza de columnas exitosa\n",
      "columns: 20\n",
      "rows: 16097\n"
     ]
    }
   ],
   "source": [
    "# database clean\n",
    "print('columns: ' + str(len(df.columns)))\n",
    "print('rows: ' + str(len(df)))\n",
    "\n",
    "#drop unnesessary columns\n",
    "df.drop(['due_at', 'group_id', 'is_public', 'problem_id', 'type', 'source_from_id', 'source_from_title', 'source_rel', 'stg_zendesk__group → group_id', 'stg_zendesk__group → name'], axis=1, inplace=True)\n",
    "\n",
    "print('limpieza de columnas exitosa')\n",
    "print('columns: ' + str(len(df.columns)))\n",
    "print('rows: ' + str(len(df)))"
   ]
  },
  {
   "cell_type": "code",
   "execution_count": 7,
   "metadata": {},
   "outputs": [
    {
     "name": "stdout",
     "output_type": "stream",
     "text": [
      "columns: 20\n",
      "rows: 16097\n",
      "limpieza de filas exitosa\n",
      "columns: 20\n",
      "rows: 4024\n"
     ]
    }
   ],
   "source": [
    "print('columns: ' + str(len(df.columns)))\n",
    "print('rows: ' + str(len(df)))\n",
    "\n",
    "#Eliminar filas de migración\n",
    "index_names = df[ df['description'] == 'Migracion Historica'].index\n",
    "df.drop(index_names, inplace = True)\n",
    "\n",
    "#eliminar filas con descripción = X\n",
    "index_names = df[ df['description'] == 'X'].index\n",
    "df.drop(index_names, inplace = True)\n",
    "\n",
    "print('limpieza de filas exitosa')\n",
    "print('columns: ' + str(len(df.columns)))\n",
    "print('rows: ' + str(len(df)))\n"
   ]
  },
  {
   "cell_type": "markdown",
   "metadata": {},
   "source": [
    "##### Dividimos el dataframe en Varias secciones según tipo de documento"
   ]
  },
  {
   "cell_type": "code",
   "execution_count": 11,
   "metadata": {},
   "outputs": [
    {
     "name": "stdout",
     "output_type": "stream",
     "text": [
      "147\n"
     ]
    }
   ],
   "source": [
    "#Seleccionamos como subcontratos aquellos tickets que en su descripción contengan las siguientes palabras\n",
    "words1 = ['sub', 'firma', 'firmas', 'logo', 'clausula', 'cláusula', 'imagen']\n",
    "words2 = ['orden de compra']\n",
    "\n",
    "dfs = []\n",
    "for word in words2:\n",
    "    df1 = df[df['description'].str.contains(word, regex=False, case=False, na=False)]\n",
    "    dfs.append(df1)\n",
    "df_subcont = pd.concat(dfs, axis=1, join='outer')\n",
    "del dfs\n",
    "\n",
    "print(len(df_subcont))"
   ]
  }
 ],
 "metadata": {
  "kernelspec": {
   "display_name": "Python 3.10.6 64-bit",
   "language": "python",
   "name": "python3"
  },
  "language_info": {
   "codemirror_mode": {
    "name": "ipython",
    "version": 3
   },
   "file_extension": ".py",
   "mimetype": "text/x-python",
   "name": "python",
   "nbconvert_exporter": "python",
   "pygments_lexer": "ipython3",
   "version": "3.10.6"
  },
  "orig_nbformat": 4,
  "vscode": {
   "interpreter": {
    "hash": "492621b2fae7a2715bdfcc2b0379978a8ec29c6ec5a17c039d90c8828404fc8d"
   }
  }
 },
 "nbformat": 4,
 "nbformat_minor": 2
}
