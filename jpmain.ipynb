{
 "cells": [
  {
   "cell_type": "code",
   "execution_count": 1,
   "metadata": {},
   "outputs": [],
   "source": [
    "import pandas as pd"
   ]
  },
  {
   "cell_type": "code",
   "execution_count": 2,
   "metadata": {},
   "outputs": [],
   "source": [
    "df = pd.read_csv('tickets.csv')"
   ]
  },
  {
   "cell_type": "markdown",
   "metadata": {},
   "source": [
    "##### Head"
   ]
  },
  {
   "cell_type": "code",
   "execution_count": 3,
   "metadata": {},
   "outputs": [
    {
     "name": "stdout",
     "output_type": "stream",
     "text": [
      "   ticket_id       _fivetran_synced        assignee_id           brand_id  \\\n",
      "0        220  abril 20, 2022, 14:53  4,531,543,131,803  4,705,224,012,571   \n",
      "1        222  abril 20, 2022, 14:53  4,623,907,812,507  4,705,224,012,571   \n",
      "2  1,301,191  abril 20, 2022, 15:19  4,623,907,810,715  4,705,210,809,883   \n",
      "3  1,408,221   mayo 19, 2022, 14:12  4,623,907,810,715  4,705,210,809,883   \n",
      "4  1,427,909  julio 31, 2022, 08:14  4,623,907,810,715  4,705,210,809,883   \n",
      "\n",
      "              created_at             updated_at  \\\n",
      "0  marzo 25, 2022, 19:47   abril 8, 2022, 00:08   \n",
      "1  marzo 25, 2022, 19:50   abril 8, 2022, 00:20   \n",
      "2  abril 12, 2022, 15:42  abril 16, 2022, 00:03   \n",
      "3   mayo 16, 2022, 19:18   mayo 19, 2022, 14:04   \n",
      "4  julio 27, 2022, 21:18  julio 30, 2022, 22:03   \n",
      "\n",
      "                                         description                 due_at  \\\n",
      "0                                                  X  abril 20, 2022, 16:00   \n",
      "1                                                  X                    NaN   \n",
      "2  Estimados\\n\\nJunto con saludar, favor solicito...                    NaN   \n",
      "3  Estimados\\n\\nJunto con saludar, favor solicito...                    NaN   \n",
      "4  Estimados\\n\\nJunto con saludar, favor solicito...                    NaN   \n",
      "\n",
      "            group_id external_id  ...  type  \\\n",
      "0  4,681,689,099,931         NaN  ...  task   \n",
      "1  4,681,689,099,931         NaN  ...   NaN   \n",
      "2  4,681,689,099,931         NaN  ...   NaN   \n",
      "3  4,681,689,099,931         NaN  ...   NaN   \n",
      "4  4,681,689,099,931         NaN  ...   NaN   \n",
      "\n",
      "                                                 url created_channel  \\\n",
      "0  https://iconstruye.zendesk.com/api/v2/tickets/...             web   \n",
      "1  https://iconstruye.zendesk.com/api/v2/tickets/...             web   \n",
      "2  https://iconstruye.zendesk.com/api/v2/tickets/...           email   \n",
      "3  https://iconstruye.zendesk.com/api/v2/tickets/...           email   \n",
      "4  https://iconstruye.zendesk.com/api/v2/tickets/...           email   \n",
      "\n",
      "  source_from_id source_from_title source_rel             source_to_address  \\\n",
      "0            NaN               NaN        NaN                           NaN   \n",
      "1            NaN               NaN        NaN                           NaN   \n",
      "2            NaN               NaN        NaN  casinoexpress@iconstruye.com   \n",
      "3            NaN               NaN        NaN  casinoexpress@iconstruye.com   \n",
      "4            NaN               NaN        NaN  casinoexpress@iconstruye.com   \n",
      "\n",
      "    source_to_name stg_zendesk__group → group_id stg_zendesk__group → name  \n",
      "0              NaN             4,681,689,099,931           Configuraciones  \n",
      "1              NaN             4,681,689,099,931           Configuraciones  \n",
      "2  iConstruye S.A.             4,681,689,099,931           Configuraciones  \n",
      "3  iConstruye S.A.             4,681,689,099,931           Configuraciones  \n",
      "4  iConstruye S.A.             4,681,689,099,931           Configuraciones  \n",
      "\n",
      "[5 rows x 30 columns]\n"
     ]
    }
   ],
   "source": [
    "print(df.head())"
   ]
  },
  {
   "cell_type": "markdown",
   "metadata": {},
   "source": [
    "##### Checkear se hay filas duplicadas"
   ]
  },
  {
   "cell_type": "code",
   "execution_count": 4,
   "metadata": {},
   "outputs": [
    {
     "name": "stdout",
     "output_type": "stream",
     "text": [
      "Filas Duplicadas: False\n",
      "\n"
     ]
    }
   ],
   "source": [
    "print('Filas Duplicadas: ' + str(df.duplicated().any()) + '\\n')"
   ]
  },
  {
   "cell_type": "markdown",
   "metadata": {},
   "source": [
    "##### Info"
   ]
  },
  {
   "cell_type": "code",
   "execution_count": 5,
   "metadata": {},
   "outputs": [
    {
     "name": "stdout",
     "output_type": "stream",
     "text": [
      "<class 'pandas.core.frame.DataFrame'>\n",
      "RangeIndex: 16097 entries, 0 to 16096\n",
      "Data columns (total 30 columns):\n",
      " #   Column                         Non-Null Count  Dtype  \n",
      "---  ------                         --------------  -----  \n",
      " 0   ticket_id                      16097 non-null  object \n",
      " 1   _fivetran_synced               16097 non-null  object \n",
      " 2   assignee_id                    10710 non-null  object \n",
      " 3   brand_id                       16097 non-null  object \n",
      " 4   created_at                     16097 non-null  object \n",
      " 5   updated_at                     16097 non-null  object \n",
      " 6   description                    16097 non-null  object \n",
      " 7   due_at                         518 non-null    object \n",
      " 8   group_id                       16097 non-null  object \n",
      " 9   external_id                    12035 non-null  object \n",
      " 10  is_public                      16097 non-null  object \n",
      " 11  organization_id                16071 non-null  object \n",
      " 12  priority                       15984 non-null  object \n",
      " 13  recipient                      3936 non-null   object \n",
      " 14  requester_id                   16097 non-null  object \n",
      " 15  status                         16097 non-null  object \n",
      " 16  subject                        16097 non-null  object \n",
      " 17  problem_id                     0 non-null      float64\n",
      " 18  submitter_id                   16097 non-null  object \n",
      " 19  ticket_form_id                 16097 non-null  object \n",
      " 20  type                           522 non-null    object \n",
      " 21  url                            16097 non-null  object \n",
      " 22  created_channel                16097 non-null  object \n",
      " 23  source_from_id                 0 non-null      float64\n",
      " 24  source_from_title              0 non-null      float64\n",
      " 25  source_rel                     390 non-null    object \n",
      " 26  source_to_address              3546 non-null   object \n",
      " 27  source_to_name                 3546 non-null   object \n",
      " 28  stg_zendesk__group → group_id  16097 non-null  object \n",
      " 29  stg_zendesk__group → name      16097 non-null  object \n",
      "dtypes: float64(3), object(27)\n",
      "memory usage: 3.7+ MB\n",
      "None\n"
     ]
    }
   ],
   "source": [
    "print(df.info())"
   ]
  },
  {
   "cell_type": "markdown",
   "metadata": {},
   "source": [
    "##### Limpieza de tabla"
   ]
  },
  {
   "cell_type": "code",
   "execution_count": 6,
   "metadata": {},
   "outputs": [
    {
     "name": "stdout",
     "output_type": "stream",
     "text": [
      "columns: 30\n",
      "rows: 16097\n",
      "limpieza de columnas exitosa\n",
      "columns: 20\n",
      "rows: 16097\n"
     ]
    }
   ],
   "source": [
    "# database clean\n",
    "print('columns: ' + str(len(df.columns)))\n",
    "print('rows: ' + str(len(df)))\n",
    "\n",
    "#drop unnesessary columns\n",
    "df.drop(['due_at', 'group_id', 'is_public', 'problem_id', 'type', 'source_from_id', 'source_from_title', 'source_rel', 'stg_zendesk__group → group_id', 'stg_zendesk__group → name'], axis=1, inplace=True)\n",
    "\n",
    "print('limpieza de columnas exitosa')\n",
    "print('columns: ' + str(len(df.columns)))\n",
    "print('rows: ' + str(len(df)))"
   ]
  },
  {
   "cell_type": "code",
   "execution_count": 7,
   "metadata": {},
   "outputs": [
    {
     "name": "stdout",
     "output_type": "stream",
     "text": [
      "columns: 20\n",
      "rows: 16097\n",
      "limpieza de filas exitosa\n",
      "columns: 20\n",
      "rows: 4024\n"
     ]
    }
   ],
   "source": [
    "print('columns: ' + str(len(df.columns)))\n",
    "print('rows: ' + str(len(df)))\n",
    "\n",
    "#Eliminar filas de migración\n",
    "index_names = df[ df['description'] == 'Migracion Historica'].index\n",
    "df.drop(index_names, inplace = True)\n",
    "\n",
    "#eliminar filas con descripción = X\n",
    "index_names = df[ df['description'] == 'X'].index\n",
    "df.drop(index_names, inplace = True)\n",
    "\n",
    "print('limpieza de filas exitosa')\n",
    "print('columns: ' + str(len(df.columns)))\n",
    "print('rows: ' + str(len(df)))\n"
   ]
  },
  {
   "cell_type": "code",
   "execution_count": 8,
   "metadata": {},
   "outputs": [
    {
     "name": "stdout",
     "output_type": "stream",
     "text": [
      "   ticket_id        _fivetran_synced        assignee_id           brand_id  \\\n",
      "2  1,301,191   abril 20, 2022, 15:19  4,623,907,810,715  4,705,210,809,883   \n",
      "3  1,408,221    mayo 19, 2022, 14:12  4,623,907,810,715  4,705,210,809,883   \n",
      "4  1,427,909   julio 31, 2022, 08:14  4,623,907,810,715  4,705,210,809,883   \n",
      "5  1,420,812    julio 8, 2022, 02:11  4,623,907,813,019  4,705,210,809,883   \n",
      "6  1,431,181  agosto 12, 2022, 04:13  4,623,907,810,715  4,705,210,809,883   \n",
      "\n",
      "           created_at          updated_at  \\\n",
      "2 2022-04-12 15:42:00 2022-04-16 00:03:00   \n",
      "3 2022-05-16 19:18:00 2022-05-19 14:04:00   \n",
      "4 2022-07-27 21:18:00 2022-07-30 22:03:00   \n",
      "5 2022-07-01 19:28:00 2022-07-07 23:03:00   \n",
      "6 2022-08-09 16:05:00 2022-08-11 19:04:00   \n",
      "\n",
      "                                         description external_id  \\\n",
      "2  Estimados\\n\\nJunto con saludar, favor solicito...         NaN   \n",
      "3  Estimados\\n\\nJunto con saludar, favor solicito...         NaN   \n",
      "4  Estimados\\n\\nJunto con saludar, favor solicito...         NaN   \n",
      "5  Estimados\\n\\nJunto con saludar, favor solicito...         NaN   \n",
      "6  Estimados\\n\\nJunto con saludar, favor solicito...         NaN   \n",
      "\n",
      "     organization_id priority                     recipient  \\\n",
      "2  4,948,454,490,651   normal  casinoexpress@iconstruye.com   \n",
      "3  4,948,454,490,651   normal  casinoexpress@iconstruye.com   \n",
      "4  4,948,454,490,651   normal  casinoexpress@iconstruye.com   \n",
      "5  4,948,454,490,651   normal  casinoexpress@iconstruye.com   \n",
      "6  4,948,454,490,651   normal  casinoexpress@iconstruye.com   \n",
      "\n",
      "        requester_id  status  \\\n",
      "2  5,015,488,234,651  closed   \n",
      "3  5,015,488,234,651  closed   \n",
      "4  5,015,488,234,651  closed   \n",
      "5  5,015,488,234,651  closed   \n",
      "6  5,015,488,234,651  closed   \n",
      "\n",
      "                                             subject       submitter_id  \\\n",
      "2  [N° Caso : 1301191] : Creación de centro de co...  5,015,488,234,651   \n",
      "3                   Creación de centro de costo 1389  5,015,488,234,651   \n",
      "4                   Creación de centro de costo 1411  5,015,488,234,651   \n",
      "5                   Creación de centro de costo 1400  5,015,488,234,651   \n",
      "6                   Creación de centro de costo 1419  5,015,488,234,651   \n",
      "\n",
      "      ticket_form_id                                                url  \\\n",
      "2  4,592,462,795,291  https://iconstruye.zendesk.com/api/v2/tickets/...   \n",
      "3  4,592,462,795,291  https://iconstruye.zendesk.com/api/v2/tickets/...   \n",
      "4  4,592,462,795,291  https://iconstruye.zendesk.com/api/v2/tickets/...   \n",
      "5  4,592,462,795,291  https://iconstruye.zendesk.com/api/v2/tickets/...   \n",
      "6  4,592,462,795,291  https://iconstruye.zendesk.com/api/v2/tickets/...   \n",
      "\n",
      "  created_channel             source_to_address   source_to_name  \n",
      "2           email  casinoexpress@iconstruye.com  iConstruye S.A.  \n",
      "3           email  casinoexpress@iconstruye.com  iConstruye S.A.  \n",
      "4           email  casinoexpress@iconstruye.com  iConstruye S.A.  \n",
      "5           email  casinoexpress@iconstruye.com  iConstruye S.A.  \n",
      "6           email  casinoexpress@iconstruye.com  iConstruye S.A.  \n"
     ]
    }
   ],
   "source": [
    "# Convertimos las fechas y horas importantes a datetimes para poder usarlas\n",
    "\n",
    "months = [('enero', 'January'), ('febrero', 'February'), ('marzo', 'March'), ('abril', 'April'), ('mayo', 'May'), ('junio', 'June'), ('julio', 'July'), ('agosto', 'August'), ('septiembre', 'September'), ('octubre', 'October'), ('noviembre', 'November'), ('diciembre', 'December')]\n",
    "\n",
    "for month in months:\n",
    "    df['created_at'] = df['created_at'].str.replace(month[0], month[1])\n",
    "    df['updated_at'] = df['updated_at'].str.replace(month[0], month[1])\n",
    "\n",
    "df['created_at'] = pd.to_datetime(df['created_at'], format='%B %d, %Y, %H:%M')\n",
    "df['updated_at'] = pd.to_datetime(df['updated_at'], format='%B %d, %Y, %H:%M')\n",
    "\n",
    "print(df.head())"
   ]
  },
  {
   "cell_type": "code",
   "execution_count": 14,
   "metadata": {},
   "outputs": [],
   "source": [
    "def add_time(df):\n",
    "    times = (df.updated_at - df.created_at) / pd.Timedelta('1 day')\n",
    "    df['time'] = times"
   ]
  },
  {
   "cell_type": "code",
   "execution_count": null,
   "metadata": {},
   "outputs": [],
   "source": [
    "#agregamos columna de tiempo\n",
    "add_time(df)"
   ]
  },
  {
   "cell_type": "markdown",
   "metadata": {},
   "source": [
    "##### Dividimos el dataframe en Varias secciones según tipo de documento"
   ]
  },
  {
   "cell_type": "code",
   "execution_count": 22,
   "metadata": {},
   "outputs": [
    {
     "name": "stdout",
     "output_type": "stream",
     "text": [
      "1079\n",
      "406\n",
      "147\n",
      "305\n"
     ]
    }
   ],
   "source": [
    "#Seleccionamos como subcontratos aquellos tickets que en su descripción contengan las siguientes palabras\n",
    "subcontrato_general = ['sub', 'firma', 'firmas', 'logo', 'clausula', 'cláusula', 'anexo', 'avance', 'estado de pago']\n",
    "orden_de_compra_general = ['orden de compra']\n",
    "firmas = ['firma']\n",
    "nuevos = ['nuevo contrato']\n",
    "\n",
    "def get_df_by_words(df, words):\n",
    "    df1 = df.loc[df['description'].str.contains('|'.join(words), case=False)]\n",
    "    return df1\n",
    "\n",
    "df_subcont = get_df_by_words(df, subcontrato_general)\n",
    "df_firmas = get_df_by_words(df, firmas)\n",
    "df_orden_de_compra = get_df_by_words(df, orden_de_compra_general)\n",
    "df_nuevos = get_df_by_words(df, nuevos)\n",
    "\n",
    "print(len(df_subcont))\n",
    "print(len(df_firmas))\n",
    "print(len(df_orden_de_compra))\n",
    "print(len(df_nuevos))\n"
   ]
  },
  {
   "cell_type": "markdown",
   "metadata": {},
   "source": [
    "##### Análisis por fecha"
   ]
  },
  {
   "cell_type": "code",
   "execution_count": 23,
   "metadata": {},
   "outputs": [
    {
     "name": "stdout",
     "output_type": "stream",
     "text": [
      "General: 5.633846400762094\n",
      "Subcontratos: 5.0823376840696115\n",
      "Firmas: 4.8499555281882865\n",
      "Orden de compra: 4.473110355253213\n",
      "Nuevos: 14.353290072859746\n"
     ]
    }
   ],
   "source": [
    "# Sacamos el indicador timpo de respuesta/cantidad de tickets\n",
    "\n",
    "def get_total_time(df):\n",
    "    total_time = df.time.sum()\n",
    "    return total_time\n",
    "\n",
    "def get_total_tickets(df):\n",
    "    total_tickets = len(df)\n",
    "    return total_tickets\n",
    "\n",
    "def get_average_time(df):\n",
    "    average_time = get_total_time(df) / get_total_tickets(df)\n",
    "    return average_time\n",
    "\n",
    "print('General: ' + str(get_average_time(df)))\n",
    "print('Subcontratos: ' + str(get_average_time(df_subcont)))\n",
    "print('Firmas: ' + str(get_average_time(df_firmas)))\n",
    "print('Orden de compra: ' + str(get_average_time(df_orden_de_compra)))\n",
    "print('Nuevos: ' + str(get_average_time(df_nuevos)))\n"
   ]
  },
  {
   "cell_type": "code",
   "execution_count": 24,
   "metadata": {},
   "outputs": [
    {
     "name": "stdout",
     "output_type": "stream",
     "text": [
      "      ticket_id                                        description       time\n",
      "3810  1,302,522  Configuración de nuevo contrato | MENTE CREATI...  94.030556\n",
      "3825  1,300,986  Configuración de nuevo contrato | BODENOR FLEX...  89.681944\n",
      "2940  1,303,046  Estimados, \\n\\nFavor configurar formatos PDf y...  88.988194\n",
      "3581  1,303,929  Configuración de nuevo contrato | Constructora...  86.954861\n",
      "3367  1,405,394  Baja Cliente EMPRESA CONSTRUCTORA TRESCO SPA |...  84.952083\n",
      "3280  1,305,772  Configuración de nuevo contrato | SOCIEDAD CON...  83.003472\n",
      "3519  1,300,838  Baja Cliente REPRESENTACIONES CANONTEX LIMITAD...  73.825694\n",
      "3701  1,409,796  Configuración de nuevo contrato | SIGMA CONSTR...  67.974306\n",
      "1587  1,305,520  Estimados:\\n\\n \\n\\nTenemos un cambio en Socove...  66.971528\n",
      "3902  1,404,340  Configuración de nuevo contrato | SOCIEDAD ENE...  66.852778\n"
     ]
    }
   ],
   "source": [
    "# Sacmaos el top 10 de los tickets con más tiempo de respuesta\n",
    "\n",
    "def get_top_10(df):\n",
    "    df = df.sort_values(by='time', ascending=False)[['ticket_id', 'description', 'time']]\n",
    "    df = df.head(10)\n",
    "    return df\n",
    "\n",
    "print(get_top_10(df))"
   ]
  },
  {
   "cell_type": "markdown",
   "metadata": {},
   "source": [
    "##### Exportación a Excel"
   ]
  },
  {
   "cell_type": "code",
   "execution_count": 25,
   "metadata": {},
   "outputs": [],
   "source": [
    "# Exportamos a csv\n",
    "\n",
    "df.sort_values(by='time', ascending=False)[['ticket_id', 'description', 'time']].to_csv('tickets_time.csv', index=False)"
   ]
  }
 ],
 "metadata": {
  "kernelspec": {
   "display_name": "Python 3.10.6 64-bit",
   "language": "python",
   "name": "python3"
  },
  "language_info": {
   "codemirror_mode": {
    "name": "ipython",
    "version": 3
   },
   "file_extension": ".py",
   "mimetype": "text/x-python",
   "name": "python",
   "nbconvert_exporter": "python",
   "pygments_lexer": "ipython3",
   "version": "3.10.6"
  },
  "orig_nbformat": 4,
  "vscode": {
   "interpreter": {
    "hash": "492621b2fae7a2715bdfcc2b0379978a8ec29c6ec5a17c039d90c8828404fc8d"
   }
  }
 },
 "nbformat": 4,
 "nbformat_minor": 2
}
